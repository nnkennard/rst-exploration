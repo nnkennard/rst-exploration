{
 "cells": [
  {
   "cell_type": "code",
   "execution_count": 1,
   "id": "27df4094",
   "metadata": {},
   "outputs": [],
   "source": [
    "import collections\n",
    "import rst_lib"
   ]
  },
  {
   "cell_type": "code",
   "execution_count": 2,
   "id": "9302d242",
   "metadata": {},
   "outputs": [],
   "source": [
    "def build_annotation_pair(files, paths, identifier):\n",
    "    if identifier.startswith(\"file\"):\n",
    "        input_file = identifier\n",
    "    else:\n",
    "        input_file = f\"{identifier}.out\"\n",
    "    main_in, main_out = rst_lib.get_file_pair(paths[rst_lib.TRAIN], input_file)\n",
    "    double_in, double_out = rst_lib.get_file_pair(paths[rst_lib.DOUBLE], input_file)\n",
    "    assert main_in == double_in\n",
    "    if None in [main_out, double_out]:\n",
    "        return\n",
    "    return rst_lib.AnnotationPair(identifier, main_in, rst_lib.Parse(main_out), rst_lib.Parse(double_out))\n",
    "  \n",
    "paths, files = rst_lib.build_file_map()\n",
    "\n",
    "annotation_pairs = [\n",
    "    build_annotation_pair(files, paths, identifier)\n",
    "    for identifier in files[rst_lib.TRAIN][rst_lib.DOUBLE]\n",
    "]   \n",
    "\n",
    "scores = []\n",
    "for pair in sorted(annotation_pairs, key=lambda x:len(x.input_text)):  \n",
    "    if pair.is_valid:\n",
    "      scores.append(pair.agreement_scores['S'])\n",
    "      pair.main_annotation.render(\n",
    "        f\"binary_parses/{pair.identifier}_main.pdf\")   \n",
    "      pair.double_annotation.render(\n",
    "        f\"binary_parses/{pair.identifier}_double.pdf\")"
   ]
  },
  {
   "cell_type": "code",
   "execution_count": 3,
   "id": "b505bd0b",
   "metadata": {},
   "outputs": [
    {
     "data": {
      "text/plain": [
       "0.9083709035114877"
      ]
     },
     "execution_count": 3,
     "metadata": {},
     "output_type": "execute_result"
    }
   ],
   "source": [
    "sum(scores)/len(scores)"
   ]
  }
 ],
 "metadata": {
  "kernelspec": {
   "display_name": "Python 3 (ipykernel)",
   "language": "python",
   "name": "python3"
  },
  "language_info": {
   "codemirror_mode": {
    "name": "ipython",
    "version": 3
   },
   "file_extension": ".py",
   "mimetype": "text/x-python",
   "name": "python",
   "nbconvert_exporter": "python",
   "pygments_lexer": "ipython3",
   "version": "3.8.16"
  }
 },
 "nbformat": 4,
 "nbformat_minor": 5
}
