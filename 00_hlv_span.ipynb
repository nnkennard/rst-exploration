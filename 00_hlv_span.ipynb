{
 "cells": [
  {
   "cell_type": "code",
   "execution_count": 1,
   "id": "27df4094",
   "metadata": {},
   "outputs": [],
   "source": [
    "import rst_lib\n",
    "import pandas as pd\n",
    "import seaborn as sns\n",
    "\n",
    "def mean(l):\n",
    "  return sum(l)/len(l)\n",
    "import matplotlib.pyplot as plt"
   ]
  },
  {
   "cell_type": "markdown",
   "id": "ee66d09d",
   "metadata": {},
   "source": [
    "# Retrieving data\n",
    "\n",
    "Set `DATA_PATH` above the the path to `rst_discourse_treebank/` on your machine (after unzipping [`LDC2002T07.tgz`](https://catalog.ldc.upenn.edu/LDC2002T07))"
   ]
  },
  {
   "cell_type": "code",
   "execution_count": 2,
   "id": "9d59135f",
   "metadata": {},
   "outputs": [],
   "source": [
    "DATA_PATH = \"./rst_discourse_treebank/\"\n",
    "annotation_pairs = rst_lib.get_double_annotated_train_files(DATA_PATH, valid_only=True)"
   ]
  },
  {
   "cell_type": "markdown",
   "id": "b86b4408",
   "metadata": {},
   "source": [
    "# Basic counts\n",
    "\n",
    "We exclude the four shortest double-annotate documents for simplicity. They have very higgh agreement and are not very realistic documents anyway. Note that the prevalence of span errors does not seem to be correlated with document lenght."
   ]
  },
  {
   "cell_type": "code",
   "execution_count": 3,
   "id": "9302d242",
   "metadata": {},
   "outputs": [],
   "source": [
    "MIN_EDU_COUNT = 7\n",
    "\n",
    "pair_counts = []\n",
    "for pair in annotation_pairs:\n",
    "  x = pair.agreement_scores\n",
    "  num_edus = len(pair.gold_annotation.edus)\n",
    "  if num_edus > MIN_EDU_COUNT:\n",
    "    x.update({\n",
    "      \"identifier\": pair.identifier,\n",
    "      \"num_edus\": num_edus,\n",
    "    })\n",
    "    pair_counts.append(x)\n",
    "df = pd.DataFrame.from_dict(pair_counts)"
   ]
  },
  {
   "cell_type": "code",
   "execution_count": 4,
   "id": "46f3e291",
   "metadata": {},
   "outputs": [
    {
     "data": {
      "image/png": "[encoded data removed]",
      "text/plain": [
       "<Figure size 1500x500 with 1 Axes>"
      ]
     },
     "metadata": {},
     "output_type": "display_data"
    }
   ],
   "source": [
    "sns.set(rc={'figure.figsize':(15,5)})\n",
    "ax = sns.scatterplot(data=df, x='num_edus', y='S' )\n",
    "sns.scatterplot(data=df, x='num_edus', y='N', ax=ax )\n",
    "#sns.scatterplot(data=df, x='num_edus', y='S', ax=ax )\n",
    "#sns.scatterplot(data=df, x='num_edus', y='F', ax=ax )\n",
    "plt.xscale('log')\n",
    "\n",
    "# Question: Is jitter ok if the axis is in log scale??"
   ]
  },
  {
   "cell_type": "markdown",
   "id": "5753fa37",
   "metadata": {},
   "source": [
    "# Span agreement"
   ]
  },
  {
   "cell_type": "code",
   "execution_count": 5,
   "id": "457af6b3",
   "metadata": {
    "scrolled": true
   },
   "outputs": [],
   "source": [
    "span_list = []\n",
    "# List of dictionaries of the format {identifier: span: avg_depth: avg_height: status:}\n",
    "\n",
    "for pair in annotation_pairs:\n",
    "  main_spans = pair.gold_span_map\n",
    "  for span, details in pair.gold_span_map.items():\n",
    "    if type(details) == tuple:\n",
    "      assert details[0] in ['Leaf', 'SegDiff']\n",
    "      continue\n",
    "    span_list.append({\n",
    "        'identifier': pair.identifier,\n",
    "        'span': span,\n",
    "        'status': 1 if span in pair.predicted_span_map else 0, \n",
    "        'dummy':1,\n",
    "        'total_edus': num_edus,\n",
    "         'level': details['level'],\n",
    "    })\n",
    "    \n",
    "df = pd.DataFrame.from_dict(span_list)\n",
    "\n"
   ]
  },
  {
   "cell_type": "code",
   "execution_count": 6,
   "id": "dfbf0cd1",
   "metadata": {},
   "outputs": [
    {
     "name": "stdout",
     "output_type": "stream",
     "text": [
      "level\n",
      "inter_para    0.560311\n",
      "intra_para    0.740234\n",
      "intra_sent    0.924787\n",
      "Name: status, dtype: float64\n",
      "level\n",
      "inter_para    1285\n",
      "intra_para    1024\n",
      "intra_sent    3058\n",
      "Name: status, dtype: int64\n",
      "0.8023104155021428\n"
     ]
    }
   ],
   "source": [
    "print(df.groupby(['level'])['status'].mean())\n",
    "print(df.groupby(['level'])['status'].count())\n",
    "print(df['status'].mean())\n"
   ]
  },
  {
   "cell_type": "markdown",
   "id": "2c195cb4",
   "metadata": {},
   "source": [
    "# Nuclearity agreement"
   ]
  },
  {
   "cell_type": "code",
   "execution_count": 7,
   "id": "28d02653",
   "metadata": {},
   "outputs": [],
   "source": [
    "span_list = []\n",
    "# List of dictionaries of the format {identifier: span: avg_depth: avg_height: status:}\n",
    "\n",
    "for pair in annotation_pairs:\n",
    "  main_spans = pair.gold_span_map\n",
    "  for span, details in pair.gold_span_map.items():\n",
    "    if type(details) == tuple:\n",
    "      assert details[0] in ['Leaf', 'SegDiff']\n",
    "      continue\n",
    "    predicted_details = pair.predicted_span_map.get(span, None)\n",
    "    if predicted_details is None or type(predicted_details) == tuple:\n",
    "      continue\n",
    "    span_list.append({\n",
    "        'identifier': pair.identifier,\n",
    "        'span': span,\n",
    "        'status': 1 if details['nuclearity'] == predicted_details['nuclearity'] else 0, \n",
    "        'dummy':1,\n",
    "        'total_edus': num_edus,\n",
    "        'level': details['level'],\n",
    "        'nuclearities': (details['nuclearity'], predicted_details['nuclearity']),\n",
    "    })\n",
    "    \n",
    "    \n",
    "df = pd.DataFrame.from_dict(span_list)\n",
    "\n"
   ]
  },
  {
   "cell_type": "code",
   "execution_count": 8,
   "id": "e4f7e5a5",
   "metadata": {},
   "outputs": [
    {
     "data": {
      "text/plain": [
       "level       nuclearities\n",
       "inter_para  (NS, NS)         336\n",
       "            (NN, NN)         224\n",
       "            (NN, NS)          48\n",
       "            (NS, NN)          48\n",
       "            (NS, SN)          20\n",
       "            (SN, NS)          20\n",
       "            (SN, SN)          12\n",
       "            (NN, SN)           6\n",
       "            (SN, NN)           6\n",
       "intra_para  (NS, NS)         388\n",
       "            (NN, NN)          90\n",
       "            (NN, NS)          68\n",
       "            (NS, NN)          68\n",
       "            (SN, SN)          54\n",
       "            (SN, NS)          29\n",
       "            (NS, SN)          29\n",
       "            (SN, NN)          16\n",
       "            (NN, SN)          16\n",
       "intra_sent  (NS, NS)        1504\n",
       "            (NN, NN)         518\n",
       "            (SN, SN)         506\n",
       "            (NN, NS)          56\n",
       "            (NS, NN)          56\n",
       "            (NS, SN)          44\n",
       "            (SN, NS)          44\n",
       "            (SN, NN)          33\n",
       "            (NN, SN)          33\n",
       "Name: count, dtype: int64"
      ]
     },
     "execution_count": 8,
     "metadata": {},
     "output_type": "execute_result"
    }
   ],
   "source": [
    "df.groupby('level')['nuclearities'].value_counts()"
   ]
  },
  {
   "cell_type": "code",
   "execution_count": 9,
   "id": "9a0f6d6f",
   "metadata": {},
   "outputs": [
    {
     "name": "stdout",
     "output_type": "stream",
     "text": [
      "0.850187265917603\n",
      "level\n",
      "inter_para    0.794444\n",
      "intra_para    0.701847\n",
      "intra_sent    0.904796\n",
      "Name: status, dtype: float64\n"
     ]
    }
   ],
   "source": [
    "print(df['status'].mean())\n",
    "print(df.groupby('level')['status'].mean())"
   ]
  },
  {
   "cell_type": "markdown",
   "id": "e1be6df6",
   "metadata": {},
   "source": [
    "# Relation agreement"
   ]
  },
  {
   "cell_type": "code",
   "execution_count": 13,
   "id": "3129761a",
   "metadata": {},
   "outputs": [
    {
     "data": {
      "text/plain": [
       "level\n",
       "inter_para    0.586111\n",
       "intra_para    0.519789\n",
       "intra_sent    0.821045\n",
       "Name: status, dtype: float64"
      ]
     },
     "execution_count": 13,
     "metadata": {},
     "output_type": "execute_result"
    }
   ],
   "source": [
    "span_list = []\n",
    "# List of dictionaries of the format {identifier: span: avg_depth: avg_height: status:}\n",
    "\n",
    "for pair in annotation_pairs:\n",
    "  main_spans = pair.gold_span_map\n",
    "  for span, details in pair.gold_span_map.items():\n",
    "    if type(details) == tuple:\n",
    "      assert details[0] in ['Leaf', 'SegDiff']\n",
    "      continue\n",
    "    predicted_details = pair.predicted_span_map.get(span, None)\n",
    "    if predicted_details is None or type(predicted_details) == tuple:\n",
    "      continue\n",
    "    span_list.append({\n",
    "        'identifier': pair.identifier,\n",
    "        'span': span,\n",
    "        'status': 1 if details['relation'] == predicted_details['relation'] else 0, \n",
    "        'dummy':1,\n",
    "        'total_edus': num_edus,\n",
    "        'level': details['level'],\n",
    "        'relations': (details['relation'], predicted_details['relation']),\n",
    "    })\n",
    "    \n",
    "    \n",
    "df = pd.DataFrame.from_dict(span_list)\n",
    "df.groupby('level')['status'].mean()\n"
   ]
  },
  {
   "cell_type": "code",
   "execution_count": 12,
   "id": "b0dd2cf9",
   "metadata": {},
   "outputs": [
    {
     "data": {
      "text/plain": [
       "relations\n",
       "(elaboration, elaboration)      1166\n",
       "(attribution, attribution)       662\n",
       "(structure, structure)           326\n",
       "(joint, joint)                   254\n",
       "(contrast, contrast)             128\n",
       "                                ... \n",
       "(enablement, attribution)          1\n",
       "(attribution, topic-comment)       1\n",
       "(attribution, enablement)          1\n",
       "(topic-comment, attribution)       1\n",
       "(attribution, temporal)            1\n",
       "Name: count, Length: 197, dtype: int64"
      ]
     },
     "execution_count": 12,
     "metadata": {},
     "output_type": "execute_result"
    }
   ],
   "source": [
    "df['relations'].value_counts()"
   ]
  },
  {
   "cell_type": "code",
   "execution_count": null,
   "id": "69aef4ce",
   "metadata": {},
   "outputs": [],
   "source": []
  }
 ],
 "metadata": {
  "kernelspec": {
   "display_name": "Python 3 (ipykernel)",
   "language": "python",
   "name": "python3"
  },
  "language_info": {
   "codemirror_mode": {
    "name": "ipython",
    "version": 3
   },
   "file_extension": ".py",
   "mimetype": "text/x-python",
   "name": "python",
   "nbconvert_exporter": "python",
   "pygments_lexer": "ipython3",
   "version": "3.8.16"
  }
 },
 "nbformat": 4,
 "nbformat_minor": 5
}
