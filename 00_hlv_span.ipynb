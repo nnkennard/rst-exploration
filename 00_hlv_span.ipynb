{
 "cells": [
  {
   "cell_type": "code",
   "execution_count": 1,
   "id": "27df4094",
   "metadata": {},
   "outputs": [],
   "source": [
    "import rst_lib\n",
    "import pandas as pd\n",
    "import seaborn as sns\n",
    "import matplotlib.pyplot as plt"
   ]
  },
  {
   "cell_type": "markdown",
   "id": "ee66d09d",
   "metadata": {},
   "source": [
    "# Retrieving data\n",
    "\n",
    "Set `DATA_PATH` above the the path to `rst_discourse_treebank/` on your machine (after unzipping [`LDC2002T07.tgz`](https://catalog.ldc.upenn.edu/LDC2002T07))"
   ]
  },
  {
   "cell_type": "code",
   "execution_count": 9,
   "id": "9d59135f",
   "metadata": {},
   "outputs": [
    {
     "data": {
      "text/plain": [
       "94"
      ]
     },
     "execution_count": 9,
     "metadata": {},
     "output_type": "execute_result"
    }
   ],
   "source": [
    "DATA_PATH = \"./rst_discourse_treebank/\"\n",
    "annotation_pairs = rst_lib.get_double_annotated_train_files(DATA_PATH, valid_only=True)\n",
    "len(annotation_pairs)"
   ]
  },
  {
   "cell_type": "markdown",
   "id": "b86b4408",
   "metadata": {},
   "source": [
    "# Basic counts\n",
    "\n",
    "We exclude the four shortest double-annotate documents for simplicity. They have very higgh agreement and are not very realistic documents anyway. Note that the prevalence of span errors does not seem to be correlated with document lenght."
   ]
  },
  {
   "cell_type": "code",
   "execution_count": 10,
   "id": "9302d242",
   "metadata": {},
   "outputs": [],
   "source": [
    "MIN_EDU_COUNT = 7\n",
    "\n",
    "pair_counts = []\n",
    "for pair in annotation_pairs:\n",
    "  x = pair.agreement_scores\n",
    "  num_edus = (len(pair.main_annotation.edus)+len(pair.double_annotation.edus))/2\n",
    "  if num_edus > MIN_EDU_COUNT:\n",
    "    x.update({\n",
    "      \"identifier\": pair.identifier,\n",
    "      \"num_edus\": num_edus,\n",
    "    })\n",
    "    pair_counts.append(x)\n",
    "df = pd.DataFrame.from_dict(pair_counts)"
   ]
  },
  {
   "cell_type": "code",
   "execution_count": 11,
   "id": "46f3e291",
   "metadata": {},
   "outputs": [
    {
     "data": {
      "image/png": "[encoded data removed]",
      "text/plain": [
       "<Figure size 1500x500 with 1 Axes>"
      ]
     },
     "metadata": {},
     "output_type": "display_data"
    }
   ],
   "source": [
    "sns.set(rc={'figure.figsize':(15,5)})\n",
    "ax = sns.scatterplot(data=df, x='num_edus', y='S' )\n",
    "sns.scatterplot(data=df, x='num_edus', y='N', ax=ax )\n",
    "#sns.scatterplot(data=df, x='num_edus', y='S', ax=ax )\n",
    "#sns.scatterplot(data=df, x='num_edus', y='F', ax=ax )\n",
    "plt.xscale('log')\n",
    "\n",
    "# Question: Is jitter ok if the axis is in log scale??"
   ]
  },
  {
   "cell_type": "markdown",
   "id": "5753fa37",
   "metadata": {},
   "source": [
    "# Span height\n",
    "\n",
    "In order to compare across documents with different lengths, we characterize each span in the tree with a measure of its normalized height.\n",
    "\n",
    "$h_{N} = \\dfrac{a}{a+b}$\n",
    "\n",
    "Where $a$ is the span's distance from the root and $b$ is the length of the longest path from the span to any of its descendents.\n",
    "\n",
    "We show that the distribution of ?disagreements over different span heights is bimodal -- disagreements tend to occur at the preterminal level and close to the root\n",
    "\n",
    "\n",
    "Some options for where span errors can occur:\n",
    "* Close to the root\n",
    "* Close to the leaves\n",
    "* ]\n",
    "\n",
    "we look at trees of height at least 5\n",
    "% errors in bottom two:\n",
    "% errors in the top two:\n",
    "% errors in the middle\n",
    "\n",
    "^ this is ok because they ahve very similar amounts of nodes"
   ]
  },
  {
   "cell_type": "code",
   "execution_count": 12,
   "id": "457af6b3",
   "metadata": {
    "scrolled": true
   },
   "outputs": [],
   "source": [
    "def mean(l):\n",
    "  return sum(l)/ len(l)\n",
    "\n",
    "span_list = []\n",
    "# List of dictionaries of the format {identifier: span: avg_depth: avg_height: status:}\n",
    "\n",
    "for pair in annotation_pairs:\n",
    "  main_spans = pair.final_span_map['main']\n",
    "  double_spans = pair.final_span_map['double']\n",
    "  \n",
    "  num_edus = mean([len(main_spans), len(double_spans)])\n",
    "    \n",
    "  for span in set(main_spans.keys()).union(double_spans.keys()):\n",
    "    if tuple in [type(main_spans.get(span, None)),type(double_spans.get(span, None)) ]: # cleaner way to avoid \n",
    "      continue\n",
    "    is_common = span in main_spans and span in double_spans\n",
    "    if is_common:\n",
    "      height = mean([main_spans[span]['height'], double_spans[span]['height']])\n",
    "      depth = mean([main_spans[span]['depth'], double_spans[span]['depth']])\n",
    "    else:\n",
    "      relevant_map, = [span_map for span_map in [main_spans, double_spans] if span in span_map]\n",
    "      height = relevant_map[span]['height']\n",
    "      depth = relevant_map[span]['depth']\n",
    "      \n",
    "      \n",
    "    if height < 3:\n",
    "      level = \"leaf\"\n",
    "    elif depth < 3:\n",
    "      level = \"root\"\n",
    "    else:\n",
    "      level = \"middle\"\n",
    "      \n",
    "      \n",
    "    span_list.append({\n",
    "        'identifier': pair.identifier,\n",
    "        'span': span,\n",
    "        'avg_height': height,\n",
    "        'avg_depth': depth,\n",
    "        'width': span[1] - span[0],\n",
    "        #'status': 'common' if is_common else 'unique', \n",
    "        'status': 1 if is_common else 0, \n",
    "        'dummy':1,\n",
    "        'total_edus': num_edus,\n",
    "        'level': level,\n",
    "    }\n",
    "                    )\n",
    "    \n",
    "df = pd.DataFrame.from_dict(span_list)"
   ]
  },
  {
   "cell_type": "code",
   "execution_count": 13,
   "id": "d5dc7465",
   "metadata": {},
   "outputs": [],
   "source": [
    "#sns.set(rc={'figure.figsize':(3,4)})\n",
    "# Heights and depths of span agreements, heights and depths of span disagreements\n",
    "# Heights and depths of relation agreements, heights and depths of relation disagreements\n",
    "\n",
    "\n",
    "#sns.boxplot(data=df, x='status', y=\"avg_height\")\n",
    "#sns.boxplot(data=df, x='status', y=\"avg_depth\")\n",
    "#sns.violinplot(data=df, y='status', x=\"width\")\n",
    "##plt.xscale('log')\n",
    "#sns.set(rc={'figure.figsize':(12, 8)})\n",
    "#sns.scatterplot(data=df, x='total_edus', y=\"avg_height\",hue='status')\n",
    "#plt.xscale('log')"
   ]
  },
  {
   "cell_type": "code",
   "execution_count": 14,
   "id": "dfbf0cd1",
   "metadata": {},
   "outputs": [
    {
     "data": {
      "text/plain": [
       "level\n",
       "leaf      0.821118\n",
       "middle    0.496552\n",
       "root      0.686131\n",
       "Name: status, dtype: float64"
      ]
     },
     "execution_count": 14,
     "metadata": {},
     "output_type": "execute_result"
    }
   ],
   "source": [
    "df.groupby(['level'])['status'].mean()"
   ]
  },
  {
   "cell_type": "markdown",
   "id": "a9f3ae8a",
   "metadata": {},
   "source": [
    "# Rendering trees\n",
    "\n",
    "This dumps phylogenetic tree-style renders of trees to `binary_parses/`"
   ]
  },
  {
   "cell_type": "code",
   "execution_count": 15,
   "id": "41f58757",
   "metadata": {},
   "outputs": [],
   "source": [
    "for pair in sorted(annotation_pairs, key=lambda x:len(x.input_text)):  \n",
    "  pair.main_annotation.render(\n",
    "        f\"binary_parses/{pair.identifier}_main.pdf\")   \n",
    "  pair.double_annotation.render(\n",
    "        f\"binary_parses/{pair.identifier}_double.pdf\")"
   ]
  },
  {
   "cell_type": "code",
   "execution_count": null,
   "id": "dde5e28b",
   "metadata": {},
   "outputs": [],
   "source": []
  }
 ],
 "metadata": {
  "kernelspec": {
   "display_name": "Python 3 (ipykernel)",
   "language": "python",
   "name": "python3"
  },
  "language_info": {
   "codemirror_mode": {
    "name": "ipython",
    "version": 3
   },
   "file_extension": ".py",
   "mimetype": "text/x-python",
   "name": "python",
   "nbconvert_exporter": "python",
   "pygments_lexer": "ipython3",
   "version": "3.8.16"
  }
 },
 "nbformat": 4,
 "nbformat_minor": 5
}
