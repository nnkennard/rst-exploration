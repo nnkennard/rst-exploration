{
 "cells": [
  {
   "cell_type": "code",
   "execution_count": 1,
   "id": "2f1644d7",
   "metadata": {},
   "outputs": [],
   "source": [
    "import rst_lib\n",
    "from rst_pred_lib import ParseFromRS3\n",
    "import pandas as pd\n",
    "import os, collections\n",
    "import xml.etree.ElementTree as ET"
   ]
  },
  {
   "cell_type": "code",
   "execution_count": 4,
   "id": "9a2bbfe4",
   "metadata": {},
   "outputs": [
    {
     "name": "stdout",
     "output_type": "stream",
     "text": [
      "bottomup RUN1\n",
      "binarized wsj_1142 1073\n",
      "binarized wsj_1142 1089\n"
     ]
    }
   ],
   "source": [
    "PARSERS_PRED_DIR = \"/work/pi_mccallum_umass_edu/wenlongzhao_umass_edu/RST/Janet-test-predictions/\"\n",
    "\n",
    "# list of test files\n",
    "_, files = rst_lib.build_file_map(\"./rst_discourse_treebank/\")\n",
    "identifiers = sorted(sum(files['test'].values(), []))"
   ]
  },
  {
   "cell_type": "markdown",
   "id": "87521dc9",
   "metadata": {},
   "source": [
    "### (1) code can run, bottomup/RUN1/wsj_0607 is correct"
   ]
  },
  {
   "cell_type": "code",
   "execution_count": null,
   "id": "1971ba84",
   "metadata": {},
   "outputs": [],
   "source": [
    "# PARSERS = [\"bottomup\", \"topdown\"]\n",
    "# RUNS = [\"RUN1\", \"RUN2\", \"RUN3\", \"RUN4\", \"RUN5\"]\n",
    "PARSERS = [\"bottomup\"]\n",
    "RUNS = [\"RUN1\"]\n",
    "\n",
    "for parser in PARSERS:\n",
    "    for run in RUNS:\n",
    "        print(parser, run)\n",
    "        experiment_dir = os.path.join(\n",
    "            PARSERS_PRED_DIR,\n",
    "            f\"RSTDT_{parser}/{run}/predicted_trees_rs3\"\n",
    "        )\n",
    "\n",
    "        # loop over test samples to get predictions by a parser ckpt\n",
    "        for identifier in identifiers:\n",
    "            file = os.path.join(experiment_dir, f\"{identifier}.rs3\")\n",
    "            parse = ParseFromRS3(identifier, file)"
   ]
  },
  {
   "cell_type": "markdown",
   "id": "f58df2d5",
   "metadata": {},
   "source": [
    "### (2) ambiguous multinuc children"
   ]
  },
  {
   "cell_type": "markdown",
   "id": "8d99b4f0",
   "metadata": {},
   "source": [
    "bottomup/RUN1/wsj_1146: 1124 is a multinuc: the leftmost arrow child 121 of 1124 (122-134) is considered a sibling satellite, and the right two arrow children 1125 (122-124) and 1127 (125-134) the hierarchical children."
   ]
  },
  {
   "cell_type": "markdown",
   "id": "a9b55d01",
   "metadata": {},
   "source": [
    "bottomup/RUN1/wsj_1331: 1000 is a fake multinuc"
   ]
  },
  {
   "cell_type": "markdown",
   "id": "68d5bcdb",
   "metadata": {},
   "source": [
    "### (3) binarization"
   ]
  },
  {
   "cell_type": "markdown",
   "id": "2a768c5d",
   "metadata": {},
   "source": [
    "bottomup/RUN1/wsj_1142: 1073 (74-106) has three children 74-77, 78-78, 79-106"
   ]
  },
  {
   "cell_type": "code",
   "execution_count": 5,
   "id": "7f677d9d",
   "metadata": {},
   "outputs": [
    {
     "name": "stdout",
     "output_type": "stream",
     "text": [
      "74\n",
      "106\n"
     ]
    }
   ],
   "source": [
    "print(parse.nodes[\"1073\"].start_edu)\n",
    "print(parse.nodes[\"1073\"].inc_end_edu)"
   ]
  },
  {
   "cell_type": "code",
   "execution_count": 6,
   "id": "7aedfd46",
   "metadata": {},
   "outputs": [
    {
     "name": "stdout",
     "output_type": "stream",
     "text": [
      "1074\n",
      "74\n",
      "77\n",
      "b1\n",
      "78\n",
      "106\n",
      "78\n",
      "78\n",
      "78\n",
      "1078\n",
      "79\n",
      "106\n"
     ]
    }
   ],
   "source": [
    "print(parse.nodes[\"1073\"].left_child.id)\n",
    "print(parse.nodes[\"1073\"].left_child.start_edu)\n",
    "print(parse.nodes[\"1073\"].left_child.inc_end_edu)\n",
    "print(parse.nodes[\"1073\"].right_child.id)\n",
    "print(parse.nodes[\"1073\"].right_child.start_edu)\n",
    "print(parse.nodes[\"1073\"].right_child.inc_end_edu)\n",
    "\n",
    "print(parse.nodes[\"1073\"].right_child.left_child.id)\n",
    "print(parse.nodes[\"1073\"].right_child.left_child.start_edu)\n",
    "print(parse.nodes[\"1073\"].right_child.left_child.inc_end_edu)\n",
    "print(parse.nodes[\"1073\"].right_child.right_child.id)\n",
    "print(parse.nodes[\"1073\"].right_child.right_child.start_edu)\n",
    "print(parse.nodes[\"1073\"].right_child.right_child.inc_end_edu)"
   ]
  }
 ],
 "metadata": {
  "kernelspec": {
   "display_name": "rst",
   "language": "python",
   "name": "rst"
  },
  "language_info": {
   "codemirror_mode": {
    "name": "ipython",
    "version": 3
   },
   "file_extension": ".py",
   "mimetype": "text/x-python",
   "name": "python",
   "nbconvert_exporter": "python",
   "pygments_lexer": "ipython3",
   "version": "3.6.13"
  }
 },
 "nbformat": 4,
 "nbformat_minor": 5
}
