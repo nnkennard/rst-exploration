{
 "cells": [
  {
   "cell_type": "code",
   "execution_count": null,
   "id": "2f1644d7",
   "metadata": {},
   "outputs": [],
   "source": [
    "import rst_lib\n",
    "import pandas as pd"
   ]
  },
  {
   "cell_type": "code",
   "execution_count": null,
   "id": "7b0c8f12",
   "metadata": {},
   "outputs": [],
   "source": [
    "paths, files = rst_lib.build_file_map(\"./rst_discourse_treebank/\")"
   ]
  },
  {
   "cell_type": "code",
   "execution_count": null,
   "id": "ff2e590d",
   "metadata": {},
   "outputs": [],
   "source": [
    "label_dicts = []\n",
    "\n",
    "for identifier in sum(files['test'].values(), []):\n",
    "  if identifier.startswith(\"file\"):\n",
    "      input_file = identifier\n",
    "  else:\n",
    "      input_file = f\"{identifier}.out\"\n",
    "  in_file, out_file = rst_lib.get_file_pair(paths['test'], input_file)\n",
    "  boundaries = rst_lib.get_boundaries(in_file)\n",
    "  parse = rst_lib.Parse(out_file, boundaries)\n",
    "  for info in parse.get_span_map().values():\n",
    "    label_dict = {'identifier': identifier}\n",
    "    if type(info) == tuple:\n",
    "      continue\n",
    "    for key in 'start_edu end_edu nuclearity orig_relation'.split():\n",
    "      label_dict[key] = info[key]\n",
    "    label_dicts.append(label_dict)\n",
    "    \n",
    "\n",
    "pd.DataFrame.from_dict(label_dicts)\n",
    "      "
   ]
  }
 ],
 "metadata": {
  "kernelspec": {
   "display_name": "Python 3 (ipykernel)",
   "language": "python",
   "name": "python3"
  },
  "language_info": {
   "codemirror_mode": {
    "name": "ipython",
    "version": 3
   },
   "file_extension": ".py",
   "mimetype": "text/x-python",
   "name": "python",
   "nbconvert_exporter": "python",
   "pygments_lexer": "ipython3",
   "version": "3.8.16"
  }
 },
 "nbformat": 4,
 "nbformat_minor": 5
}
