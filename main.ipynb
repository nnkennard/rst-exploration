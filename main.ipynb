{
 "cells": [
  {
   "cell_type": "code",
   "execution_count": null,
   "id": "27df4094",
   "metadata": {},
   "outputs": [],
   "source": [
    "import rst_lib\n",
    "\n",
    "DATA_PATH = \"./rst_discourse_treebank/\""
   ]
  },
  {
   "cell_type": "markdown",
   "id": "30bd5229",
   "metadata": {},
   "source": [
    "# Retrieving data\n",
    "\n",
    "Set `DATA_PATH` above the the path to `rst_discourse_treebank/` on your machine (after unzipping [`LDC2002T07.tgz`](https://catalog.ldc.upenn.edu/LDC2002T07))"
   ]
  },
  {
   "cell_type": "code",
   "execution_count": null,
   "id": "9302d242",
   "metadata": {},
   "outputs": [],
   "source": [
    "annotation_pairs = rst_lib.get_double_annotated_train_files(DATA_PATH, valid_only=True)\n",
    "\n",
    "scores = []\n",
    "for pair in sorted(annotation_pairs, key=lambda x:len(x.input_text)):  \n",
    "  scores.append(pair.agreement_scores['S'])"
   ]
  },
  {
   "cell_type": "markdown",
   "id": "5d1c8485",
   "metadata": {},
   "source": [
    "# Rendering trees\n",
    "\n",
    "This dumps phylogenetic tree-style renders of trees in `binary_parses/`"
   ]
  },
  {
   "cell_type": "code",
   "execution_count": null,
   "id": "d21d9471",
   "metadata": {},
   "outputs": [],
   "source": [
    "for pair in sorted(annotation_pairs, key=lambda x:len(x.input_text)):  \n",
    "  pair.main_annotation.render(\n",
    "        f\"binary_parses/{pair.identifier}_main.pdf\")   \n",
    "  pair.double_annotation.render(\n",
    "        f\"binary_parses/{pair.identifier}_double.pdf\")"
   ]
  }
 ],
 "metadata": {
  "kernelspec": {
   "display_name": "Python 3 (ipykernel)",
   "language": "python",
   "name": "python3"
  },
  "language_info": {
   "codemirror_mode": {
    "name": "ipython",
    "version": 3
   },
   "file_extension": ".py",
   "mimetype": "text/x-python",
   "name": "python",
   "nbconvert_exporter": "python",
   "pygments_lexer": "ipython3",
   "version": "3.8.16"
  }
 },
 "nbformat": 4,
 "nbformat_minor": 5
}
