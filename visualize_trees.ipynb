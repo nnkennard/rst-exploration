{
 "cells": [
  {
   "cell_type": "code",
   "execution_count": 13,
   "id": "d552cef2",
   "metadata": {},
   "outputs": [],
   "source": [
    "from ete3 import Tree, TreeStyle, TextFace\n",
    "import PyQt5\n",
    "import rst_lib\n",
    "from rst_lib import TRAIN, DOUBLE\n",
    "from ete3 import NodeStyle"
   ]
  },
  {
   "cell_type": "code",
   "execution_count": 26,
   "id": "398180a1",
   "metadata": {},
   "outputs": [],
   "source": [
    "ts = TreeStyle()\n",
    "ts.show_leaf_name = False\n",
    "ns = NodeStyle()\n",
    "ns['size'] = 0\n",
    "\n",
    "\n",
    "def get_newick_helper(subtree):\n",
    "  if subtree.is_leaf:\n",
    "    return str(subtree.tags['span_leaf'])\n",
    "  else:\n",
    "    return \"(\" + \", \".join([get_newick_helper(child) for child in subtree.children_in_order()]) +\")\"\n",
    "\n",
    "\n",
    "def get_newick(subtree):\n",
    "  return get_newick_helper(subtree) + \";\"\n",
    "  \n",
    "paths, files = rst_lib.build_file_map()\n",
    "\n",
    "annotation_pairs = [\n",
    "    rst_lib.build_annotation_pair(files, paths, identifier)\n",
    "    for identifier in files[TRAIN][DOUBLE]\n",
    "]\n",
    "\n",
    "for p in annotation_pairs:\n",
    "  if p.main_annotation.is_valid and p.double_annotation.is_valid:\n",
    "    maps = {\n",
    "      \"main\": p.main_annotation,\n",
    "      \"double\": p.double_annotation\n",
    "    }\n",
    "    for which_annotation, annotation in maps.items():\n",
    "      newick = get_newick(annotation.tree)\n",
    "      face_map = [None] + [\" \".join(edu) for edu in annotation.edus[1:]]\n",
    "      t = Tree(newick)\n",
    "      for x in t.traverse():\n",
    "          x.set_style(ns)\n",
    "          if x.name:\n",
    "              x.add_face(TextFace(\"  \" +face_map[int(x.name)]), 0)\n",
    "      t.convert_to_ultrametric()\n",
    "      t.render(f\"{p.identifier}_{which_annotation}.pdf\", tree_style=ts, w=700, dpi=300)"
   ]
  },
  {
   "cell_type": "code",
   "execution_count": null,
   "id": "60276646",
   "metadata": {},
   "outputs": [],
   "source": []
  }
 ],
 "metadata": {
  "kernelspec": {
   "display_name": "Python 3 (ipykernel)",
   "language": "python",
   "name": "python3"
  },
  "language_info": {
   "codemirror_mode": {
    "name": "ipython",
    "version": 3
   },
   "file_extension": ".py",
   "mimetype": "text/x-python",
   "name": "python",
   "nbconvert_exporter": "python",
   "pygments_lexer": "ipython3",
   "version": "3.8.16"
  }
 },
 "nbformat": 4,
 "nbformat_minor": 5
}
